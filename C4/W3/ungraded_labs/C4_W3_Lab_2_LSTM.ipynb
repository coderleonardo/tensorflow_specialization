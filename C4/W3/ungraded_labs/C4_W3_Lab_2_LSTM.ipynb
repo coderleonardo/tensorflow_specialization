{
 "cells": [
  {
   "cell_type": "markdown",
   "metadata": {},
   "source": [
    "<a href=\"https://colab.research.google.com/github/https-deeplearning-ai/tensorflow-1-public/blob/main/C4/W3/ungraded_labs/C4_W3_Lab_2_LSTM.ipynb\" target=\"_parent\"><img src=\"https://colab.research.google.com/assets/colab-badge.svg\" alt=\"Open In Colab\"/></a>"
   ]
  },
  {
   "cell_type": "markdown",
   "metadata": {
    "id": "sV_nvXSQGJPK"
   },
   "source": [
    "# Ungraded Lab: Using a multi-layer LSTM for forecasting\n",
    "\n",
    "In this lab, you will use the same RNN architecure in the first lab but will instead stack [LSTM](https://www.tensorflow.org/api_docs/python/tf/keras/layers/LSTM) layers instead of `SimpleRNN`."
   ]
  },
  {
   "cell_type": "markdown",
   "metadata": {
    "id": "3IMbAWETGOWD"
   },
   "source": [
    "## Imports"
   ]
  },
  {
   "cell_type": "code",
   "execution_count": 1,
   "metadata": {
    "id": "BOjujz601HcS"
   },
   "outputs": [
    {
     "name": "stderr",
     "output_type": "stream",
     "text": [
      "2023-11-25 10:14:46.594509: I tensorflow/tsl/cuda/cudart_stub.cc:28] Could not find cuda drivers on your machine, GPU will not be used.\n",
      "2023-11-25 10:14:46.656865: I tensorflow/tsl/cuda/cudart_stub.cc:28] Could not find cuda drivers on your machine, GPU will not be used.\n",
      "2023-11-25 10:14:48.130461: W tensorflow/compiler/tf2tensorrt/utils/py_utils.cc:38] TF-TRT Warning: Could not find TensorRT\n"
     ]
    }
   ],
   "source": [
    "import tensorflow as tf\n",
    "import numpy as np\n",
    "import matplotlib.pyplot as plt"
   ]
  },
  {
   "cell_type": "markdown",
   "metadata": {
    "id": "kD7RQQ0xGQVH"
   },
   "source": [
    "## Utilities"
   ]
  },
  {
   "cell_type": "code",
   "execution_count": 2,
   "metadata": {
    "id": "Zswl7jRtGzkk"
   },
   "outputs": [],
   "source": [
    "def plot_series(time, series, format=\"-\", start=0, end=None):\n",
    "    \"\"\"\n",
    "    Visualizes time series data\n",
    "\n",
    "    Args:\n",
    "      time (array of int) - contains the time steps\n",
    "      series (array of int) - contains the measurements for each time step\n",
    "      format - line style when plotting the graph\n",
    "      start - first time step to plot\n",
    "      end - last time step to plot\n",
    "    \"\"\"\n",
    "\n",
    "    # Setup dimensions of the graph figure\n",
    "    plt.figure(figsize=(10, 6))\n",
    "    \n",
    "    if type(series) is tuple:\n",
    "\n",
    "      for series_num in series:\n",
    "        # Plot the time series data\n",
    "        plt.plot(time[start:end], series_num[start:end], format)\n",
    "\n",
    "    else:\n",
    "      # Plot the time series data\n",
    "      plt.plot(time[start:end], series[start:end], format)\n",
    "\n",
    "    # Label the x-axis\n",
    "    plt.xlabel(\"Time\")\n",
    "\n",
    "    # Label the y-axis\n",
    "    plt.ylabel(\"Value\")\n",
    "\n",
    "    # Overlay a grid on the graph\n",
    "    plt.grid(True)\n",
    "\n",
    "    # Draw the graph on screen\n",
    "    plt.show()\n",
    "\n",
    "def trend(time, slope=0):\n",
    "    \"\"\"\n",
    "    Generates synthetic data that follows a straight line given a slope value.\n",
    "\n",
    "    Args:\n",
    "      time (array of int) - contains the time steps\n",
    "      slope (float) - determines the direction and steepness of the line\n",
    "\n",
    "    Returns:\n",
    "      series (array of float) - measurements that follow a straight line\n",
    "    \"\"\"\n",
    "\n",
    "    # Compute the linear series given the slope\n",
    "    series = slope * time\n",
    "\n",
    "    return series\n",
    "\n",
    "def seasonal_pattern(season_time):\n",
    "    \"\"\"\n",
    "    Just an arbitrary pattern, you can change it if you wish\n",
    "    \n",
    "    Args:\n",
    "      season_time (array of float) - contains the measurements per time step\n",
    "\n",
    "    Returns:\n",
    "      data_pattern (array of float) -  contains revised measurement values according \n",
    "                                  to the defined pattern\n",
    "    \"\"\"\n",
    "\n",
    "    # Generate the values using an arbitrary pattern\n",
    "    data_pattern = np.where(season_time < 0.4,\n",
    "                    np.cos(season_time * 2 * np.pi),\n",
    "                    1 / np.exp(3 * season_time))\n",
    "    \n",
    "    return data_pattern\n",
    "\n",
    "def seasonality(time, period, amplitude=1, phase=0):\n",
    "    \"\"\"\n",
    "    Repeats the same pattern at each period\n",
    "\n",
    "    Args:\n",
    "      time (array of int) - contains the time steps\n",
    "      period (int) - number of time steps before the pattern repeats\n",
    "      amplitude (int) - peak measured value in a period\n",
    "      phase (int) - number of time steps to shift the measured values\n",
    "\n",
    "    Returns:\n",
    "      data_pattern (array of float) - seasonal data scaled by the defined amplitude\n",
    "    \"\"\"\n",
    "    \n",
    "    # Define the measured values per period\n",
    "    season_time = ((time + phase) % period) / period\n",
    "\n",
    "    # Generates the seasonal data scaled by the defined amplitude\n",
    "    data_pattern = amplitude * seasonal_pattern(season_time)\n",
    "\n",
    "    return data_pattern\n",
    "\n",
    "def noise(time, noise_level=1, seed=None):\n",
    "    \"\"\"Generates a normally distributed noisy signal\n",
    "\n",
    "    Args:\n",
    "      time (array of int) - contains the time steps\n",
    "      noise_level (float) - scaling factor for the generated signal\n",
    "      seed (int) - number generator seed for repeatability\n",
    "\n",
    "    Returns:\n",
    "      noise (array of float) - the noisy signal\n",
    "    \"\"\"\n",
    "\n",
    "    # Initialize the random number generator\n",
    "    rnd = np.random.RandomState(seed)\n",
    "\n",
    "    # Generate a random number for each time step and scale by the noise level\n",
    "    noise = rnd.randn(len(time)) * noise_level\n",
    "    \n",
    "    return noise"
   ]
  },
  {
   "cell_type": "markdown",
   "metadata": {
    "id": "yxNyeFWjGSdj"
   },
   "source": [
    "## Generate the Synthetic Data"
   ]
  },
  {
   "cell_type": "code",
   "execution_count": 3,
   "metadata": {
    "id": "KYEUfDbdpHPm"
   },
   "outputs": [
    {
     "data": {
      "image/png": "[encoded data removed]",
      "text/plain": [
       "<Figure size 1000x600 with 1 Axes>"
      ]
     },
     "metadata": {},
     "output_type": "display_data"
    }
   ],
   "source": [
    "# Parameters\n",
    "time = np.arange(4 * 365 + 1, dtype=\"float32\")\n",
    "baseline = 10\n",
    "amplitude = 40\n",
    "slope = 0.05\n",
    "noise_level = 5\n",
    "\n",
    "# Create the series\n",
    "series = baseline + trend(time, slope) + seasonality(time, period=365, amplitude=amplitude)\n",
    "\n",
    "# Update with noise\n",
    "series += noise(time, noise_level, seed=42)\n",
    "\n",
    "# Plot the results\n",
    "plot_series(time, series)"
   ]
  },
  {
   "cell_type": "markdown",
   "metadata": {
    "id": "MYKCvv-eGWRc"
   },
   "source": [
    "## Split the Dataset"
   ]
  },
  {
   "cell_type": "code",
   "execution_count": 4,
   "metadata": {
    "id": "hpp0slenpKVD"
   },
   "outputs": [],
   "source": [
    "# Define the split time\n",
    "split_time = 1000\n",
    "\n",
    "# Get the train set \n",
    "time_train = time[:split_time]\n",
    "x_train = series[:split_time]\n",
    "\n",
    "# Get the validation set\n",
    "time_valid = time[split_time:]\n",
    "x_valid = series[split_time:]"
   ]
  },
  {
   "cell_type": "markdown",
   "metadata": {
    "id": "cktHz9aOGYtV"
   },
   "source": [
    "## Prepare Features and Labels"
   ]
  },
  {
   "cell_type": "code",
   "execution_count": 5,
   "metadata": {
    "id": "G_j_2_Mqwn7-"
   },
   "outputs": [],
   "source": [
    "# Parameters\n",
    "window_size = 20\n",
    "batch_size = 32\n",
    "shuffle_buffer_size = 1000"
   ]
  },
  {
   "cell_type": "code",
   "execution_count": 6,
   "metadata": {
    "id": "4sTTIOCbyShY"
   },
   "outputs": [],
   "source": [
    "def windowed_dataset(series, window_size, batch_size, shuffle_buffer):\n",
    "    \"\"\"Generates dataset windows\n",
    "\n",
    "    Args:\n",
    "      series (array of float) - contains the values of the time series\n",
    "      window_size (int) - the number of time steps to include in the feature\n",
    "      batch_size (int) - the batch size\n",
    "      shuffle_buffer(int) - buffer size to use for the shuffle method\n",
    "\n",
    "    Returns:\n",
    "      dataset (TF Dataset) - TF Dataset containing time windows\n",
    "    \"\"\"\n",
    "  \n",
    "    # Generate a TF Dataset from the series values\n",
    "    dataset = tf.data.Dataset.from_tensor_slices(series)\n",
    "    \n",
    "    # Window the data but only take those with the specified size\n",
    "    dataset = dataset.window(window_size + 1, shift=1, drop_remainder=True)\n",
    "    \n",
    "    # Flatten the windows by putting its elements in a single batch\n",
    "    dataset = dataset.flat_map(lambda window: window.batch(window_size + 1))\n",
    "\n",
    "    # Create tuples with features and labels \n",
    "    dataset = dataset.map(lambda window: (window[:-1], window[-1]))\n",
    "\n",
    "    # Shuffle the windows\n",
    "    dataset = dataset.shuffle(shuffle_buffer)\n",
    "    \n",
    "    # Create batches of windows\n",
    "    dataset = dataset.batch(batch_size).prefetch(1)\n",
    "    \n",
    "    return dataset"
   ]
  },
  {
   "cell_type": "code",
   "execution_count": 7,
   "metadata": {
    "id": "vGj5-InSwtQQ"
   },
   "outputs": [],
   "source": [
    "# Generate the dataset windows\n",
    "dataset = windowed_dataset(x_train, window_size, batch_size, shuffle_buffer_size)"
   ]
  },
  {
   "cell_type": "markdown",
   "metadata": {
    "id": "p9-Ke8ZaGcjd"
   },
   "source": [
    "## Build the Model\n",
    "\n",
    "As mentioned, you will swap `SimpleRNN` for `LSTM` in this lab. It is also set as bidirectional below but feel free to revise later and see what results you get. LSTMs are much more complex in their internal architecture than simpleRNNs. It implements a cell state that allows it to remember sequences better than simple implementations. This added complexity results in a bigger set of parameters to train and you'll see that when you print the model summary below."
   ]
  },
  {
   "cell_type": "code",
   "execution_count": 8,
   "metadata": {
    "id": "A1Hl39rklkLm"
   },
   "outputs": [
    {
     "name": "stdout",
     "output_type": "stream",
     "text": [
      "Model: \"sequential\"\n",
      "_________________________________________________________________\n",
      " Layer (type)                Output Shape              Param #   \n",
      "=================================================================\n",
      " lambda (Lambda)             (None, 20, 1)             0         \n",
      "                                                                 \n",
      " bidirectional (Bidirection  (None, 20, 64)            8704      \n",
      " al)                                                             \n",
      "                                                                 \n",
      " bidirectional_1 (Bidirecti  (None, 64)                24832     \n",
      " onal)                                                           \n",
      "                                                                 \n",
      " dense (Dense)               (None, 1)                 65        \n",
      "                                                                 \n",
      " lambda_1 (Lambda)           (None, 1)                 0         \n",
      "                                                                 \n",
      "=================================================================\n",
      "Total params: 33601 (131.25 KB)\n",
      "Trainable params: 33601 (131.25 KB)\n",
      "Non-trainable params: 0 (0.00 Byte)\n",
      "_________________________________________________________________\n"
     ]
    }
   ],
   "source": [
    "# Build the Model\n",
    "model_tune = tf.keras.models.Sequential([\n",
    "  tf.keras.layers.Lambda(lambda x: tf.expand_dims(x, axis=-1),\n",
    "                      input_shape=[window_size]),\n",
    "    tf.keras.layers.Bidirectional(tf.keras.layers.LSTM(32, return_sequences=True)),\n",
    "  tf.keras.layers.Bidirectional(tf.keras.layers.LSTM(32)),\n",
    "  tf.keras.layers.Dense(1),\n",
    "  tf.keras.layers.Lambda(lambda x: x * 100.0)\n",
    "])\n",
    "\n",
    "# Print the model summary\n",
    "model_tune.summary()"
   ]
  },
  {
   "cell_type": "markdown",
   "metadata": {
    "id": "FHaFblbwq0GV"
   },
   "source": [
    "## Tune the Learning Rate\n",
    "\n",
    "As usual, you will pick a learning rate by running the tuning code below."
   ]
  },
  {
   "cell_type": "code",
   "execution_count": 9,
   "metadata": {
    "id": "qE7al18qw48G"
   },
   "outputs": [
    {
     "name": "stdout",
     "output_type": "stream",
     "text": [
      "Epoch 1/100\n",
      "31/31 [==============================] - 8s 39ms/step - loss: 30.2371 - lr: 1.0000e-08\n",
      "Epoch 2/100\n",
      "31/31 [==============================] - 1s 24ms/step - loss: 29.2064 - lr: 1.1220e-08\n",
      "Epoch 3/100\n",
      "31/31 [==============================] - 1s 25ms/step - loss: 28.0791 - lr: 1.2589e-08\n",
      "Epoch 4/100\n",
      "31/31 [==============================] - 1s 31ms/step - loss: 26.9671 - lr: 1.4125e-08\n",
      "Epoch 5/100\n",
      "31/31 [==============================] - 1s 33ms/step - loss: 25.8780 - lr: 1.5849e-08\n",
      "Epoch 6/100\n",
      "31/31 [==============================] - 1s 25ms/step - loss: 24.8064 - lr: 1.7783e-08\n",
      "Epoch 7/100\n",
      "31/31 [==============================] - 1s 27ms/step - loss: 23.7529 - lr: 1.9953e-08\n",
      "Epoch 8/100\n",
      "31/31 [==============================] - 1s 25ms/step - loss: 22.7472 - lr: 2.2387e-08\n",
      "Epoch 9/100\n",
      "31/31 [==============================] - 1s 24ms/step - loss: 21.7904 - lr: 2.5119e-08\n",
      "Epoch 10/100\n",
      "31/31 [==============================] - 1s 24ms/step - loss: 20.9017 - lr: 2.8184e-08\n",
      "Epoch 11/100\n",
      "31/31 [==============================] - 1s 26ms/step - loss: 20.0666 - lr: 3.1623e-08\n",
      "Epoch 12/100\n",
      "31/31 [==============================] - 1s 24ms/step - loss: 19.2796 - lr: 3.5481e-08\n",
      "Epoch 13/100\n",
      "31/31 [==============================] - 1s 24ms/step - loss: 18.5592 - lr: 3.9811e-08\n",
      "Epoch 14/100\n",
      "31/31 [==============================] - 1s 24ms/step - loss: 17.9001 - lr: 4.4668e-08\n",
      "Epoch 15/100\n",
      "31/31 [==============================] - 1s 27ms/step - loss: 17.2980 - lr: 5.0119e-08\n",
      "Epoch 16/100\n",
      "31/31 [==============================] - 1s 25ms/step - loss: 16.7649 - lr: 5.6234e-08\n",
      "Epoch 17/100\n",
      "31/31 [==============================] - 1s 24ms/step - loss: 16.2831 - lr: 6.3096e-08\n",
      "Epoch 18/100\n",
      "31/31 [==============================] - 1s 25ms/step - loss: 15.8429 - lr: 7.0795e-08\n",
      "Epoch 19/100\n",
      "31/31 [==============================] - 1s 27ms/step - loss: 15.4248 - lr: 7.9433e-08\n",
      "Epoch 20/100\n",
      "31/31 [==============================] - 1s 28ms/step - loss: 15.0402 - lr: 8.9125e-08\n",
      "Epoch 21/100\n",
      "31/31 [==============================] - 1s 26ms/step - loss: 14.6847 - lr: 1.0000e-07\n",
      "Epoch 22/100\n",
      "31/31 [==============================] - 1s 25ms/step - loss: 14.3426 - lr: 1.1220e-07\n",
      "Epoch 23/100\n",
      "31/31 [==============================] - 1s 27ms/step - loss: 14.0107 - lr: 1.2589e-07\n",
      "Epoch 24/100\n",
      "31/31 [==============================] - 1s 25ms/step - loss: 13.6805 - lr: 1.4125e-07\n",
      "Epoch 25/100\n",
      "31/31 [==============================] - 1s 26ms/step - loss: 13.3578 - lr: 1.5849e-07\n",
      "Epoch 26/100\n",
      "31/31 [==============================] - 1s 25ms/step - loss: 13.0234 - lr: 1.7783e-07\n",
      "Epoch 27/100\n",
      "31/31 [==============================] - 1s 27ms/step - loss: 12.6806 - lr: 1.9953e-07\n",
      "Epoch 28/100\n",
      "31/31 [==============================] - 1s 25ms/step - loss: 12.3280 - lr: 2.2387e-07\n",
      "Epoch 29/100\n",
      "31/31 [==============================] - 1s 25ms/step - loss: 11.9412 - lr: 2.5119e-07\n",
      "Epoch 30/100\n",
      "31/31 [==============================] - 1s 27ms/step - loss: 11.5380 - lr: 2.8184e-07\n",
      "Epoch 31/100\n",
      "31/31 [==============================] - 1s 27ms/step - loss: 11.1082 - lr: 3.1623e-07\n",
      "Epoch 32/100\n",
      "31/31 [==============================] - 1s 26ms/step - loss: 10.6524 - lr: 3.5481e-07\n",
      "Epoch 33/100\n",
      "31/31 [==============================] - 1s 24ms/step - loss: 10.1906 - lr: 3.9811e-07\n",
      "Epoch 34/100\n",
      "31/31 [==============================] - 1s 25ms/step - loss: 9.7051 - lr: 4.4668e-07\n",
      "Epoch 35/100\n",
      "31/31 [==============================] - 1s 27ms/step - loss: 9.2669 - lr: 5.0119e-07\n",
      "Epoch 36/100\n",
      "31/31 [==============================] - 1s 26ms/step - loss: 8.8132 - lr: 5.6234e-07\n",
      "Epoch 37/100\n",
      "31/31 [==============================] - 1s 26ms/step - loss: 8.4354 - lr: 6.3096e-07\n",
      "Epoch 38/100\n",
      "31/31 [==============================] - 1s 26ms/step - loss: 8.0877 - lr: 7.0795e-07\n",
      "Epoch 39/100\n",
      "31/31 [==============================] - 1s 27ms/step - loss: 7.8020 - lr: 7.9433e-07\n",
      "Epoch 40/100\n",
      "31/31 [==============================] - 1s 24ms/step - loss: 7.5658 - lr: 8.9125e-07\n",
      "Epoch 41/100\n",
      "31/31 [==============================] - 1s 25ms/step - loss: 7.3585 - lr: 1.0000e-06\n",
      "Epoch 42/100\n",
      "31/31 [==============================] - 1s 25ms/step - loss: 7.1483 - lr: 1.1220e-06\n",
      "Epoch 43/100\n",
      "31/31 [==============================] - 1s 27ms/step - loss: 7.0237 - lr: 1.2589e-06\n",
      "Epoch 44/100\n",
      "31/31 [==============================] - 1s 25ms/step - loss: 6.8161 - lr: 1.4125e-06\n",
      "Epoch 45/100\n",
      "31/31 [==============================] - 1s 26ms/step - loss: 6.7320 - lr: 1.5849e-06\n",
      "Epoch 46/100\n",
      "31/31 [==============================] - 1s 25ms/step - loss: 6.5892 - lr: 1.7783e-06\n",
      "Epoch 47/100\n",
      "31/31 [==============================] - 1s 25ms/step - loss: 6.4332 - lr: 1.9953e-06\n",
      "Epoch 48/100\n",
      "31/31 [==============================] - 1s 25ms/step - loss: 6.3597 - lr: 2.2387e-06\n",
      "Epoch 49/100\n",
      "31/31 [==============================] - 1s 26ms/step - loss: 6.2493 - lr: 2.5119e-06\n",
      "Epoch 50/100\n",
      "31/31 [==============================] - 1s 26ms/step - loss: 6.2198 - lr: 2.8184e-06\n",
      "Epoch 51/100\n",
      "31/31 [==============================] - 1s 25ms/step - loss: 6.0028 - lr: 3.1623e-06\n",
      "Epoch 52/100\n",
      "31/31 [==============================] - 1s 25ms/step - loss: 6.0725 - lr: 3.5481e-06\n",
      "Epoch 53/100\n",
      "31/31 [==============================] - 1s 26ms/step - loss: 5.9284 - lr: 3.9811e-06\n",
      "Epoch 54/100\n",
      "31/31 [==============================] - 1s 28ms/step - loss: 5.6194 - lr: 4.4668e-06\n",
      "Epoch 55/100\n",
      "31/31 [==============================] - 1s 26ms/step - loss: 5.4895 - lr: 5.0119e-06\n",
      "Epoch 56/100\n",
      "31/31 [==============================] - 1s 25ms/step - loss: 5.5718 - lr: 5.6234e-06\n",
      "Epoch 57/100\n",
      "31/31 [==============================] - 1s 25ms/step - loss: 5.5148 - lr: 6.3096e-06\n",
      "Epoch 58/100\n",
      "31/31 [==============================] - 1s 28ms/step - loss: 5.5322 - lr: 7.0795e-06\n",
      "Epoch 59/100\n",
      "31/31 [==============================] - 1s 26ms/step - loss: 5.5583 - lr: 7.9433e-06\n",
      "Epoch 60/100\n",
      "31/31 [==============================] - 1s 25ms/step - loss: 5.2187 - lr: 8.9125e-06\n",
      "Epoch 61/100\n",
      "31/31 [==============================] - 1s 25ms/step - loss: 5.7380 - lr: 1.0000e-05\n",
      "Epoch 62/100\n",
      "31/31 [==============================] - 1s 26ms/step - loss: 5.2677 - lr: 1.1220e-05\n",
      "Epoch 63/100\n",
      "31/31 [==============================] - 1s 25ms/step - loss: 5.2015 - lr: 1.2589e-05\n",
      "Epoch 64/100\n",
      "31/31 [==============================] - 1s 26ms/step - loss: 4.8734 - lr: 1.4125e-05\n",
      "Epoch 65/100\n",
      "31/31 [==============================] - 1s 26ms/step - loss: 5.2892 - lr: 1.5849e-05\n",
      "Epoch 66/100\n",
      "31/31 [==============================] - 1s 27ms/step - loss: 6.2156 - lr: 1.7783e-05\n",
      "Epoch 67/100\n",
      "31/31 [==============================] - 1s 26ms/step - loss: 5.3233 - lr: 1.9953e-05\n",
      "Epoch 68/100\n",
      "31/31 [==============================] - 1s 25ms/step - loss: 5.1577 - lr: 2.2387e-05\n",
      "Epoch 69/100\n",
      "31/31 [==============================] - 1s 31ms/step - loss: 4.8827 - lr: 2.5119e-05\n",
      "Epoch 70/100\n",
      "31/31 [==============================] - 1s 24ms/step - loss: 5.2275 - lr: 2.8184e-05\n",
      "Epoch 71/100\n",
      "31/31 [==============================] - 1s 24ms/step - loss: 5.7911 - lr: 3.1623e-05\n",
      "Epoch 72/100\n",
      "31/31 [==============================] - 1s 25ms/step - loss: 5.5625 - lr: 3.5481e-05\n",
      "Epoch 73/100\n",
      "31/31 [==============================] - 1s 28ms/step - loss: 5.8019 - lr: 3.9811e-05\n",
      "Epoch 74/100\n",
      "31/31 [==============================] - 1s 28ms/step - loss: 5.9284 - lr: 4.4668e-05\n",
      "Epoch 75/100\n",
      "31/31 [==============================] - 1s 33ms/step - loss: 8.6668 - lr: 5.0119e-05\n",
      "Epoch 76/100\n",
      "31/31 [==============================] - 1s 32ms/step - loss: 5.5704 - lr: 5.6234e-05\n",
      "Epoch 77/100\n",
      "31/31 [==============================] - 1s 30ms/step - loss: 5.5772 - lr: 6.3096e-05\n",
      "Epoch 78/100\n",
      "31/31 [==============================] - 1s 30ms/step - loss: 5.3179 - lr: 7.0795e-05\n",
      "Epoch 79/100\n",
      "31/31 [==============================] - 1s 27ms/step - loss: 7.2502 - lr: 7.9433e-05\n",
      "Epoch 80/100\n",
      "31/31 [==============================] - 1s 28ms/step - loss: 6.3106 - lr: 8.9125e-05\n",
      "Epoch 81/100\n",
      "31/31 [==============================] - 1s 35ms/step - loss: 5.6208 - lr: 1.0000e-04\n",
      "Epoch 82/100\n",
      "31/31 [==============================] - 1s 31ms/step - loss: 7.5028 - lr: 1.1220e-04\n",
      "Epoch 83/100\n",
      "31/31 [==============================] - 1s 30ms/step - loss: 5.9403 - lr: 1.2589e-04\n",
      "Epoch 84/100\n",
      "31/31 [==============================] - 1s 31ms/step - loss: 6.6054 - lr: 1.4125e-04\n",
      "Epoch 85/100\n",
      "31/31 [==============================] - 1s 29ms/step - loss: 9.3914 - lr: 1.5849e-04\n",
      "Epoch 86/100\n",
      "31/31 [==============================] - 1s 28ms/step - loss: 9.2547 - lr: 1.7783e-04\n",
      "Epoch 87/100\n",
      "31/31 [==============================] - 1s 30ms/step - loss: 10.1636 - lr: 1.9953e-04\n",
      "Epoch 88/100\n",
      "31/31 [==============================] - 1s 28ms/step - loss: 9.0323 - lr: 2.2387e-04\n",
      "Epoch 89/100\n",
      "31/31 [==============================] - 1s 29ms/step - loss: 6.0168 - lr: 2.5119e-04\n",
      "Epoch 90/100\n",
      "31/31 [==============================] - 1s 32ms/step - loss: 8.2948 - lr: 2.8184e-04\n",
      "Epoch 91/100\n",
      "31/31 [==============================] - 1s 28ms/step - loss: 9.3619 - lr: 3.1623e-04\n",
      "Epoch 92/100\n",
      "31/31 [==============================] - 1s 30ms/step - loss: 10.1086 - lr: 3.5481e-04\n",
      "Epoch 93/100\n",
      "31/31 [==============================] - 1s 32ms/step - loss: 9.7988 - lr: 3.9811e-04\n",
      "Epoch 94/100\n",
      "31/31 [==============================] - 1s 28ms/step - loss: 11.8305 - lr: 4.4668e-04\n",
      "Epoch 95/100\n",
      "31/31 [==============================] - 1s 29ms/step - loss: 8.4413 - lr: 5.0119e-04\n",
      "Epoch 96/100\n",
      "31/31 [==============================] - 1s 30ms/step - loss: 11.4963 - lr: 5.6234e-04\n",
      "Epoch 97/100\n",
      "31/31 [==============================] - 1s 28ms/step - loss: 11.6559 - lr: 6.3096e-04\n",
      "Epoch 98/100\n",
      "31/31 [==============================] - 1s 29ms/step - loss: 12.6024 - lr: 7.0795e-04\n",
      "Epoch 99/100\n",
      "31/31 [==============================] - 1s 30ms/step - loss: 12.1539 - lr: 7.9433e-04\n",
      "Epoch 100/100\n",
      "31/31 [==============================] - 1s 28ms/step - loss: 13.8428 - lr: 8.9125e-04\n"
     ]
    }
   ],
   "source": [
    "# Set the learning rate scheduler\n",
    "lr_schedule = tf.keras.callbacks.LearningRateScheduler(\n",
    "    lambda epoch: 1e-8 * 10**(epoch / 20))\n",
    "\n",
    "# Initialize the optimizer\n",
    "optimizer = tf.keras.optimizers.SGD(momentum=0.9)\n",
    "\n",
    "# Set the training parameters\n",
    "model_tune.compile(loss=tf.keras.losses.Huber(), optimizer=optimizer)\n",
    "\n",
    "# Train the model\n",
    "history = model_tune.fit(dataset, epochs=100, callbacks=[lr_schedule])"
   ]
  },
  {
   "cell_type": "code",
   "execution_count": 10,
   "metadata": {
    "id": "AkBsrsXMzoWR"
   },
   "outputs": [
    {
     "data": {
      "text/plain": [
       "(1e-08, 0.001, 0.0, 30.0)"
      ]
     },
     "execution_count": 10,
     "metadata": {},
     "output_type": "execute_result"
    },
    {
     "data": {
      "image/png": "[encoded data removed]",
      "text/plain": [
       "<Figure size 1000x600 with 1 Axes>"
      ]
     },
     "metadata": {},
     "output_type": "display_data"
    }
   ],
   "source": [
    "# Define the learning rate array\n",
    "lrs = 1e-8 * (10 ** (np.arange(100) / 20))\n",
    "\n",
    "# Set the figure size\n",
    "plt.figure(figsize=(10, 6))\n",
    "\n",
    "# Set the grid\n",
    "plt.grid(True)\n",
    "\n",
    "# Plot the loss in log scale\n",
    "plt.semilogx(lrs, history.history[\"loss\"])\n",
    "\n",
    "# Increase the tickmarks size\n",
    "plt.tick_params('both', length=10, width=1, which='both')\n",
    "\n",
    "# Set the plot boundaries\n",
    "plt.axis([1e-8, 1e-3, 0, 30])"
   ]
  },
  {
   "cell_type": "markdown",
   "metadata": {
    "id": "i-lKNp4pq_w8"
   },
   "source": [
    "## Train the Model\n",
    "\n",
    "You can then proceed to train the model with your chosen learning rate. \n",
    "\n",
    "*Tip: When experimenting and you find yourself running different iterations of a model, you may want to use the [`clear_session()`](https://www.tensorflow.org/api_docs/python/tf/keras/backend/clear_session) method to declutter memory used by Keras. This is added in the first line below.*\n"
   ]
  },
  {
   "cell_type": "code",
   "execution_count": 11,
   "metadata": {},
   "outputs": [],
   "source": [
    "tf.keras.backend.clear_session()"
   ]
  },
  {
   "cell_type": "code",
   "execution_count": null,
   "metadata": {
    "id": "4uh-97bpLZCA"
   },
   "outputs": [],
   "source": [
    "# Reset states generated by Keras\n",
    "tf.keras.backend.clear_session()\n",
    "\n",
    "# Build the model\n",
    "model = tf.keras.models.Sequential([\n",
    "  tf.keras.layers.Lambda(lambda x: tf.expand_dims(x, axis=-1),\n",
    "                      input_shape=[None]),\n",
    "   tf.keras.layers.Bidirectional(tf.keras.layers.LSTM(32, return_sequences=True)),\n",
    "  tf.keras.layers.Bidirectional(tf.keras.layers.LSTM(32)),\n",
    "  tf.keras.layers.Dense(1),\n",
    "  tf.keras.layers.Lambda(lambda x: x * 100.0)\n",
    "])\n",
    "\n",
    "# Set the learning rate\n",
    "learning_rate = 2e-6\n",
    "\n",
    "# Set the optimizer \n",
    "optimizer = tf.keras.optimizers.SGD(learning_rate=learning_rate, momentum=0.9)\n",
    "\n",
    "# Set the training parameters\n",
    "model.compile(loss=tf.keras.losses.Huber(),\n",
    "              optimizer=optimizer,\n",
    "              metrics=[\"mae\"])\n",
    "\n",
    "# Train the model\n",
    "history = model.fit(dataset,epochs=100)"
   ]
  },
  {
   "cell_type": "markdown",
   "metadata": {
    "id": "RjP4kbGiI7cw"
   },
   "source": [
    "## Model Prediction\n",
    "\n",
    "You will then generate batches of windows to generate predictions that align with the validation set."
   ]
  },
  {
   "cell_type": "code",
   "execution_count": null,
   "metadata": {
    "id": "QO8cfKwKBBG6"
   },
   "outputs": [],
   "source": [
    "def model_forecast(model, series, window_size, batch_size):\n",
    "    \"\"\"Uses an input model to generate predictions on data windows\n",
    "\n",
    "    Args:\n",
    "      model (TF Keras Model) - model that accepts data windows\n",
    "      series (array of float) - contains the values of the time series\n",
    "      window_size (int) - the number of time steps to include in the window\n",
    "      batch_size (int) - the batch size\n",
    "\n",
    "    Returns:\n",
    "      forecast (numpy array) - array containing predictions\n",
    "    \"\"\"\n",
    "\n",
    "    # Generate a TF Dataset from the series values\n",
    "    dataset = tf.data.Dataset.from_tensor_slices(series)\n",
    "\n",
    "    # Window the data but only take those with the specified size\n",
    "    dataset = dataset.window(window_size, shift=1, drop_remainder=True)\n",
    "\n",
    "    # Flatten the windows by putting its elements in a single batch\n",
    "    dataset = dataset.flat_map(lambda w: w.batch(window_size))\n",
    "    \n",
    "    # Create batches of windows\n",
    "    dataset = dataset.batch(batch_size).prefetch(1)\n",
    "    \n",
    "    # Get predictions on the entire dataset\n",
    "    forecast = model.predict(dataset)\n",
    "    \n",
    "    return forecast"
   ]
  },
  {
   "cell_type": "code",
   "execution_count": null,
   "metadata": {
    "id": "_plB3UseBD8o"
   },
   "outputs": [],
   "source": [
    "# Reduce the original series\n",
    "forecast_series = series[split_time-window_size:-1]\n",
    "\n",
    "# Use helper function to generate predictions\n",
    "forecast = model_forecast(model, forecast_series, window_size, batch_size)\n",
    "\n",
    "# Drop single dimensional axis\n",
    "results = forecast.squeeze()\n",
    "\n",
    "# Plot the results\n",
    "plot_series(time_valid, (x_valid, results))"
   ]
  },
  {
   "cell_type": "markdown",
   "metadata": {
    "id": "Nn8iSQkZtaRC"
   },
   "source": [
    "You can then generate the metrics to evaluate the model's performance."
   ]
  },
  {
   "cell_type": "code",
   "execution_count": null,
   "metadata": {
    "id": "-IKhueZaBGID"
   },
   "outputs": [],
   "source": [
    "# Compute the MSE and MAE\n",
    "print(tf.keras.metrics.mean_squared_error(x_valid, results).numpy())\n",
    "print(tf.keras.metrics.mean_absolute_error(x_valid, results).numpy())"
   ]
  },
  {
   "cell_type": "markdown",
   "metadata": {
    "id": "bzPIqeMWvbPy"
   },
   "source": [
    "## Wrap Up\n",
    "\n",
    "This concludes this short exercise on using LSTMs for time series forecasting. Next week, you will build upon this and add convolutions. Then, you will start to move away from synthetic data and use real-world datasets. See you there!"
   ]
  },
  {
   "cell_type": "markdown",
   "metadata": {
    "id": "U5PqTePGHeMH"
   },
   "source": [
    "## Optional: Including a Validation Set while Training\n",
    "\n",
    "Back in the first course of this specialization, you saw how you can also monitor the performance of your model against a validation set while training. You can also do that for this lab. \n",
    "\n",
    "First, you need to generate a `val_set` which are data windows and labels that your model can accept. You can simply reuse the `windowed_dataset` function for that and you can pass in the `x_valid` points to generate the windows."
   ]
  },
  {
   "cell_type": "code",
   "execution_count": null,
   "metadata": {
    "id": "kvFVwL3PC4iX"
   },
   "outputs": [],
   "source": [
    "# Generate data windows of the validation set\n",
    "val_set = windowed_dataset(x_valid, window_size, batch_size, shuffle_buffer_size)"
   ]
  },
  {
   "cell_type": "markdown",
   "metadata": {
    "id": "p68j6XxEvP9K"
   },
   "source": [
    "You can then do the same training as before but pass in the `val_set` to the `validation_data` parameter of the `fit()` method."
   ]
  },
  {
   "cell_type": "code",
   "execution_count": null,
   "metadata": {
    "id": "wujKz6tXDSn0"
   },
   "outputs": [],
   "source": [
    "# Reset states generated by Keras\n",
    "tf.keras.backend.clear_session()\n",
    "\n",
    "# Build the model\n",
    "model = tf.keras.models.Sequential([\n",
    "  tf.keras.layers.Lambda(lambda x: tf.expand_dims(x, axis=-1),\n",
    "                      input_shape=[None]),\n",
    "   tf.keras.layers.Bidirectional(tf.keras.layers.LSTM(32, return_sequences=True)),\n",
    "  tf.keras.layers.Bidirectional(tf.keras.layers.LSTM(32)),\n",
    "  tf.keras.layers.Dense(1),\n",
    "  tf.keras.layers.Lambda(lambda x: x * 100.0)\n",
    "])\n",
    "\n",
    "# Set the learning rate\n",
    "learning_rate = 2e-6\n",
    "\n",
    "# Set the optimizer \n",
    "optimizer = tf.keras.optimizers.SGD(learning_rate=learning_rate, momentum=0.9)\n",
    "\n",
    "# Set the training parameters\n",
    "model.compile(loss=tf.keras.losses.Huber(),\n",
    "              optimizer=optimizer,\n",
    "              metrics=[\"mae\"])\n",
    "\n",
    "# Train the model\n",
    "history = model.fit(dataset,epochs=100, validation_data=val_set)"
   ]
  }
 ],
 "metadata": {
  "accelerator": "GPU",
  "colab": {
   "collapsed_sections": [],
   "name": "C4_W3_Lab_2_LSTM.ipynb",
   "private_outputs": true,
   "provenance": []
  },
  "kernelspec": {
   "display_name": "Python 3 (ipykernel)",
   "language": "python",
   "name": "python3"
  },
  "language_info": {
   "codemirror_mode": {
    "name": "ipython",
    "version": 3
   },
   "file_extension": ".py",
   "mimetype": "text/x-python",
   "name": "python",
   "nbconvert_exporter": "python",
   "pygments_lexer": "ipython3",
   "version": "3.8.10"
  }
 },
 "nbformat": 4,
 "nbformat_minor": 1
}
